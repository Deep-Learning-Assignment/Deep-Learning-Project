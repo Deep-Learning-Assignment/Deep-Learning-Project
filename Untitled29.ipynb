{
  "nbformat": 4,
  "nbformat_minor": 0,
  "metadata": {
    "colab": {
      "provenance": [],
      "authorship_tag": "ABX9TyMdG7RpYTyQuK3+LMt7cFXz",
      "include_colab_link": true
    },
    "kernelspec": {
      "name": "python3",
      "display_name": "Python 3"
    },
    "language_info": {
      "name": "python"
    }
  },
  "cells": [
    {
      "cell_type": "markdown",
      "metadata": {
        "id": "view-in-github",
        "colab_type": "text"
      },
      "source": [
        "<a href=\"https://colab.research.google.com/github/Deep-Learning-Assignment/Deep-Learning-Project/blob/main/Untitled29.ipynb\" target=\"_parent\"><img src=\"https://colab.research.google.com/assets/colab-badge.svg\" alt=\"Open In Colab\"/></a>"
      ]
    },
    {
      "cell_type": "code",
      "source": [
        "# Step 1: Mount Google Drive\n",
        "import os\n",
        "import zipfile\n",
        "from google.colab import drive\n",
        "\n",
        "# Step 2: Import necessary libraries\n",
        "import tensorflow as tf\n",
        "from tensorflow.keras.preprocessing.image import ImageDataGenerator\n",
        "from tensorflow.keras.applications import VGG16\n",
        "from tensorflow.keras.layers import Dense, Flatten\n",
        "from tensorflow.keras.models import Model\n",
        "from tensorflow.keras.optimizers import Adam\n",
        "import matplotlib.pyplot as plt"
      ],
      "metadata": {
        "id": "i4A1XC9QrgpB"
      },
      "execution_count": 7,
      "outputs": []
    },
    {
      "cell_type": "code",
      "execution_count": 14,
      "metadata": {
        "id": "yAT26OzCdagt",
        "colab": {
          "base_uri": "https://localhost:8080/"
        },
        "outputId": "9d434f8d-1c04-40fe-81e0-f000a0021817"
      },
      "outputs": [
        {
          "output_type": "stream",
          "name": "stdout",
          "text": [
            "Mounted at /content/drive\n",
            "Dataset extracted to /content/plantVillage\n"
          ]
        }
      ],
      "source": [
        "\n",
        "\n",
        "# Ensures CUDA memory allocation is expandable (optional, if using CUDA for GPU)\n",
        "os.environ['PYTORCH_CUDA_ALLOC_CONF'] = 'expandable_segments:True'\n",
        "\n",
        "# Mount Google Drive\n",
        "drive.flush_and_unmount()  # Unmount first\n",
        "drive.mount('/content/drive')\n",
        "\n",
        "\n",
        "# Step 3: Path to the dataset zip file in Google Drive\n",
        "zip_file_path = '/content/drive/MyDrive/Plant Village.zip'  # Update with your actual path\n",
        "\n",
        "# Step 4: Directory where you want to extract the dataset\n",
        "extract_dir = '/content/plantVillage'\n",
        "\n",
        "# Step 5: Create the directory if it doesn't exist\n",
        "os.makedirs(extract_dir, exist_ok=True)\n",
        "\n",
        "# Step 6: Extract the zip file\n",
        "try:\n",
        "    with zipfile.ZipFile(zip_file_path, 'r') as zip_ref:\n",
        "        zip_ref.extractall(extract_dir)\n",
        "    print(f\"Dataset extracted to {extract_dir}\")\n",
        "except FileNotFoundError:\n",
        "    print(f\"Zip file not found at {zip_file_path}. Please check the file path.\")\n",
        "except zipfile.BadZipFile:\n",
        "    print(\"The file is not a zip file or it is corrupted.\")\n",
        "except Exception as e:\n",
        "    print(f\"An error occurred: {e}\")\n"
      ]
    },
    {
      "cell_type": "code",
      "source": [
        "import os\n",
        "import shutil\n",
        "\n",
        "# Define the source and destination directories\n",
        "source_dir = '/content/drive/MyDrive/plantVillage/PlantVillage/'  # Update with actual directory\n",
        "dest_dir = '/content/drive/MyDrive/plantVillage/PlantVillage/'\n",
        "\n",
        "# List the folders to confirm folder names\n",
        "folder_names = os.listdir(source_dir)\n",
        "print(\"Folders found in plantVillage:\", folder_names)\n",
        "\n",
        "# Define the correct folder names based on the folder list\n",
        "# Adjust these names to match exactly with the folder names in your dataset\n",
        "tomato_classes = [\n",
        "    'Tomato__Target_Spot',\n",
        "    'Tomato__Tomato_mosaic_virus',\n",
        "    'Tomato__Tomato_YellowLeaf__Curl_Virus',\n",
        "    'Tomato_Bacterial_spot',\n",
        "    'Tomato_Early_blight',\n",
        "    'Tomato_health',\n",
        "    'Tomato_Late_blight',\n",
        "    'Tomato_Leaf_Mold',\n",
        "    'Tomato_Septoria_leaf_spot',\n",
        "    'Tomato_Spider_mites_Two_spotted_spider_mite'\n",
        "]\n",
        "\n",
        "# Ensure the destination directories for each class exist\n",
        "for class_name in tomato_classes:\n",
        "    os.makedirs(os.path.join(dest_dir, class_name), exist_ok=True)\n",
        "\n",
        "# Move images to their respective folders based on class names\n",
        "for class_name in tomato_classes:\n",
        "    class_source_dir = os.path.join(source_dir, class_name)\n",
        "    class_dest_dir = os.path.join(dest_dir, class_name)\n",
        "\n",
        "    if os.path.exists(class_source_dir):\n",
        "        for file_name in os.listdir(class_source_dir):\n",
        "            file_path = os.path.join(class_source_dir, file_name)\n",
        "            if os.path.isfile(file_path):  # Check if it's a file\n",
        "                shutil.move(file_path, class_dest_dir)\n",
        "                print(f\"Moved {file_name} to {class_dest_dir}\")\n",
        "    else:\n",
        "        print(f\"Source folder for {class_name} does not exist.\")\n"
      ],
      "metadata": {
        "colab": {
          "base_uri": "https://localhost:8080/"
        },
        "id": "HHdh2KAc1F5D",
        "outputId": "c486ec26-8210-434a-9c7f-cf6cc359a59b"
      },
      "execution_count": 16,
      "outputs": [
        {
          "output_type": "stream",
          "name": "stdout",
          "text": [
            "Folders found in plantVillage: ['Tomato__Target_Spot', 'Tomato__Tomato_mosaic_virus', 'Tomato__Tomato_YellowLeaf__Curl_Virus', 'Tomato_Bacterial_spot', 'Tomato_Early_blight', 'Tomato_health', 'Tomato_Late_blight', 'Tomato_Leaf_Mold', 'Tomato_Septoria_leaf_spot', 'Tomato_Spider_mites_Two_spotted_spider_mite']\n"
          ]
        }
      ]
    }
  ]
}